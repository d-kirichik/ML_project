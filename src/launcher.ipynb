{
  "nbformat": 4,
  "nbformat_minor": 0,
  "metadata": {
    "anaconda-cloud": {},
    "kernelspec": {
      "display_name": "conda_tensorflow_p36",
      "language": "python",
      "name": "conda_tensorflow_p36"
    },
    "language_info": {
      "codemirror_mode": {
        "name": "ipython",
        "version": 3
      },
      "file_extension": ".py",
      "mimetype": "text/x-python",
      "name": "python",
      "nbconvert_exporter": "python",
      "pygments_lexer": "ipython3",
      "version": "3.6.6"
    },
    "notice": "Copyright 2018 Amazon.com, Inc. or its affiliates. All Rights Reserved. Licensed under the Apache License, Version 2.0 (the \"License\"). You may not use this file except in compliance with the License. A copy of the License is located at http://aws.amazon.com/apache2.0/ or in the \"license\" file accompanying this file. This file is distributed on an \"AS IS\" BASIS, WITHOUT WARRANTIES OR CONDITIONS OF ANY KIND, either express or implied. See the License for the specific language governing permissions and limitations under the License.",
    "pycharm": {
      "stem_cell": {
        "cell_type": "raw",
        "metadata": {
          "collapsed": false
        },
        "source": []
      }
    },
    "colab": {
      "name": "launcher.ipynb",
      "provenance": [],
      "collapsed_sections": []
    }
  },
  "cells": [
    {
      "cell_type": "markdown",
      "metadata": {
        "id": "An32jVizt2H3",
        "colab_type": "text"
      },
      "source": [
        "# Main Launcher"
      ]
    },
    {
      "cell_type": "code",
      "metadata": {
        "scrolled": true,
        "id": "XRoO5CLpt2H5",
        "colab_type": "code",
        "colab": {}
      },
      "source": [
        "import sagemaker\n",
        "import boto3\n",
        "from sagemaker.analytics import TrainingJobAnalytics\n",
        "from sagemaker.rl import RLEstimator\n",
        "%matplotlib inline"
      ],
      "execution_count": 0,
      "outputs": []
    },
    {
      "cell_type": "markdown",
      "metadata": {
        "id": "09iTjJhht2IE",
        "colab_type": "text"
      },
      "source": [
        "### Setup S3 bucket\n",
        "\n",
        "Set up the linkage and authentication to the S3 bucket."
      ]
    },
    {
      "cell_type": "code",
      "metadata": {
        "id": "5COsxSd1t2IF",
        "colab_type": "code",
        "outputId": "607f189d-bc02-4a09-9bb1-747b0582e85c",
        "colab": {}
      },
      "source": [
        "sage_session = sagemaker.session.Session()\n",
        "s3_bucket = sage_session.default_bucket()  \n",
        "s3_output_path = 's3://{}/'.format(s3_bucket)\n",
        "print(\"S3 bucket path: {}\".format(s3_output_path))"
      ],
      "execution_count": 0,
      "outputs": [
        {
          "output_type": "stream",
          "text": [
            "S3 bucket path: s3://sagemaker-us-east-2-320208962352/\n"
          ],
          "name": "stdout"
        }
      ]
    },
    {
      "cell_type": "markdown",
      "metadata": {
        "id": "ab2cBIKKt2IL",
        "colab_type": "text"
      },
      "source": [
        "#YOU CAN CHANGE VARIABLE HERE!\n",
        "Here you should change job prefix in order to run different problems and different algorithms.*"
      ]
    },
    {
      "cell_type": "code",
      "metadata": {
        "id": "qNMudDPyt2IM",
        "colab_type": "code",
        "outputId": "b24630dc-f985-444d-dade-8802157affc7",
        "colab": {}
      },
      "source": [
        "job_name_prefix = 'news-vendor-ppo-lead-time-2-ppo-default' #change job prefix here\n",
        "instance_type = \"ml.m5.large\"\n",
        "role = sagemaker.get_execution_role()\n",
        "print(\"Using IAM role arn: {}\".format(role))"
      ],
      "execution_count": 0,
      "outputs": [
        {
          "output_type": "stream",
          "text": [
            "Using IAM role arn: arn:aws:iam::320208962352:role/service-role/AmazonSageMaker-ExecutionRole-20200403T011720\n"
          ],
          "name": "stdout"
        }
      ]
    },
    {
      "cell_type": "markdown",
      "metadata": {
        "id": "9rFwRqg7t2IU",
        "colab_type": "text"
      },
      "source": [
        "### Define the Sagemaker-RL docker image for Ray\n",
        "\n",
        "We will use the `TensorFlow Ray` for this project. For a list of available RL images see https://github.com/aws/sagemaker-rl-container "
      ]
    },
    {
      "cell_type": "code",
      "metadata": {
        "id": "YoXFP5K4t2IV",
        "colab_type": "code",
        "outputId": "028cc44a-d4ca-4b2b-c0df-5165c3c45506",
        "colab": {}
      },
      "source": [
        "cpu_or_gpu = 'gpu' if instance_type.startswith('ml.p') else 'cpu'\n",
        "aws_region = boto3.Session().region_name\n",
        "custom_image_name = \"520713654638.dkr.ecr.{}.amazonaws.com/sagemaker-rl-tensorflow:ray0.6.5-{}-py3\".format(aws_region, cpu_or_gpu)\n",
        "print(\"Using ECR image %s\" % custom_image_name)"
      ],
      "execution_count": 0,
      "outputs": [
        {
          "output_type": "stream",
          "text": [
            "Using ECR image 520713654638.dkr.ecr.us-east-2.amazonaws.com/sagemaker-rl-tensorflow:ray0.6.5-cpu-py3\n"
          ],
          "name": "stdout"
        }
      ]
    },
    {
      "cell_type": "markdown",
      "metadata": {
        "id": "n9WoDlykt2Ia",
        "colab_type": "text"
      },
      "source": [
        "### Define Metric\n",
        "A list of dictionaries that defines the metric(s) used to evaluate the training jobs. Each dictionary contains two keys: ‘Name’ for the name of the metric, and ‘Regex’ for the regular expression used to extract the metric from the logs."
      ]
    },
    {
      "cell_type": "code",
      "metadata": {
        "id": "Wpdwh8_Ut2Ib",
        "colab_type": "code",
        "colab": {}
      },
      "source": [
        "metric_definitions = [{'Name': 'episode_reward_mean',\n",
        "  'Regex': 'episode_reward_mean: ([-+]?[0-9]*\\\\.?[0-9]+([eE][-+]?[0-9]+)?)'},\n",
        " {'Name': 'episode_reward_max',\n",
        "  'Regex': 'episode_reward_max: ([-+]?[0-9]*\\\\.?[0-9]+([eE][-+]?[0-9]+)?)'},\n",
        " {'Name': 'episode_len_mean',\n",
        "  'Regex': 'episode_len_mean: ([-+]?[0-9]*\\\\.?[0-9]+([eE][-+]?[0-9]+)?)'},\n",
        " {'Name': 'entropy',\n",
        "  'Regex': 'entropy: ([-+]?[0-9]*\\\\.?[0-9]+([eE][-+]?[0-9]+)?)'},\n",
        " {'Name': 'episode_reward_min',\n",
        "  'Regex': 'episode_reward_min: ([-+]?[0-9]*\\\\.?[0-9]+([eE][-+]?[0-9]+)?)'},\n",
        " {'Name': 'vf_loss',\n",
        "  'Regex': 'vf_loss: ([-+]?[0-9]*\\\\.?[0-9]+([eE][-+]?[0-9]+)?)'},\n",
        " {'Name': 'policy_loss',\n",
        "  'Regex': 'policy_loss: ([-+]?[0-9]*\\\\.?[0-9]+([eE][-+]?[0-9]+)?)'},                                            \n",
        "]"
      ],
      "execution_count": 0,
      "outputs": []
    },
    {
      "cell_type": "markdown",
      "metadata": {
        "id": "ErWztewdt2Ii",
        "colab_type": "text"
      },
      "source": [
        "### Define Estimator\n",
        "This Estimator executes an RLEstimator script in a managed Reinforcement Learning (RL) execution environment within a SageMaker Training Job. The managed RL environment is an Amazon-built Docker container that executes functions defined in the supplied entry_point Python script."
      ]
    },
    {
      "cell_type": "markdown",
      "metadata": {
        "id": "wMwd2NJXucxe",
        "colab_type": "text"
      },
      "source": [
        "#YOU CAN CHANGE VARIABLE HERE!\n",
        "Here you can chnge entry point for different jobs. Each train_*.py file corresponds to some problem and some algorithm."
      ]
    },
    {
      "cell_type": "code",
      "metadata": {
        "id": "9BA4lnYLt2Ij",
        "colab_type": "code",
        "colab": {}
      },
      "source": [
        "train_entry_point = \"train_news_vendor_ppo.py\" #change entry point here for different problems\n",
        "train_job_max_duration_in_seconds = 3600 * 24 * 2\n",
        "\n",
        "estimator = RLEstimator(entry_point=train_entry_point,\n",
        "                        source_dir=\"src\",\n",
        "                        dependencies=[\"common/sagemaker_rl\"],\n",
        "                        image_name=custom_image_name,\n",
        "                        role=role,\n",
        "                        train_instance_type=instance_type,\n",
        "                        train_instance_count=1,\n",
        "                        output_path=s3_output_path,\n",
        "                        base_job_name=job_name_prefix,\n",
        "                        metric_definitions=metric_definitions,\n",
        "                        train_max_run=train_job_max_duration_in_seconds,\n",
        "                        hyperparameters={}\n",
        "                       )"
      ],
      "execution_count": 0,
      "outputs": []
    },
    {
      "cell_type": "code",
      "metadata": {
        "scrolled": false,
        "id": "j3e2RL2-t2Ir",
        "colab_type": "code",
        "colab": {}
      },
      "source": [
        "estimator.fit(wait=False)\n",
        "job_name = estimator.latest_training_job.job_name\n",
        "print(\"Training job: %s\" % job_name)"
      ],
      "execution_count": 0,
      "outputs": []
    },
    {
      "cell_type": "markdown",
      "metadata": {
        "id": "VBUYUv3Mt2I1",
        "colab_type": "text"
      },
      "source": [
        "### Visualization\n",
        "\n",
        "RL training can take a long time.  So while it's running there are a variety of ways we can track progress of the running training job.  Some intermediate output gets saved to S3 during training, so we'll set up to capture that."
      ]
    },
    {
      "cell_type": "markdown",
      "metadata": {
        "id": "aF9sVUUouyqw",
        "colab_type": "text"
      },
      "source": [
        "#YOU CAN CHANGE VARIABLE HERE!\n",
        "If you are tired of waiting, you can take a look at different plots for different problems and jobs. Just redefine job_name from previously selected job_name for last estimator, take job name from your aws console.\n",
        "https://us-east-2.console.aws.amazon.com/sagemaker/home/jobs"
      ]
    },
    {
      "cell_type": "code",
      "metadata": {
        "id": "39LgPHG6t2I2",
        "colab_type": "code",
        "colab": {}
      },
      "source": [
        "#job_name = 'news-vendor-ppo-lead-time-2-ppo-default-2020-04-05-23-06-20-105' \n",
        "#you can change job_name here in order to get results for different aws jobs"
      ],
      "execution_count": 0,
      "outputs": []
    },
    {
      "cell_type": "code",
      "metadata": {
        "scrolled": false,
        "id": "8MGi6J73t2I6",
        "colab_type": "code",
        "outputId": "18c6047c-0c84-4e25-8313-d075a57d40cc",
        "colab": {}
      },
      "source": [
        "df = TrainingJobAnalytics(job_name, ['episode_reward_mean']).dataframe()\n",
        "df_min = TrainingJobAnalytics(job_name, ['episode_reward_min']).dataframe()\n",
        "df_max = TrainingJobAnalytics(job_name, ['episode_reward_max']).dataframe()\n",
        "df['rl_reward_mean'] = df['value']\n",
        "df['rl_reward_min'] = df_min['value']\n",
        "df['rl_reward_max'] = df_max['value']\n",
        "num_metrics = len(df)\n",
        "    \n",
        "if num_metrics == 0:\n",
        "    print(\"No algorithm metrics found in CloudWatch\")\n",
        "else:\n",
        "    plt = df.plot(x='timestamp', y=['rl_reward_mean'], figsize=(18,6), fontsize=18, legend=True, style='-', color=['b','r','g'])\n",
        "    plt.fill_between(df.timestamp, df.rl_reward_min, df.rl_reward_max, color='b', alpha=0.2)\n",
        "    plt.set_ylabel('Mean reward per episode', fontsize=20)\n",
        "    plt.set_xlabel('Training time (s)', fontsize=20)\n",
        "    plt.legend(loc=4, prop={'size': 20})"
      ],
      "execution_count": 0,
      "outputs": [
        {
          "output_type": "display_data",
          "data": {
            "image/png": "[encoded data removed]",
            "text/plain": [
              "<Figure size 1296x432 with 1 Axes>"
            ]
          },
          "metadata": {
            "tags": []
          }
        }
      ]
    },
    {
      "cell_type": "code",
      "metadata": {
        "id": "Fqxn_5Tyt2JA",
        "colab_type": "code",
        "colab": {}
      },
      "source": [
        ""
      ],
      "execution_count": 0,
      "outputs": []
    }
  ]
}